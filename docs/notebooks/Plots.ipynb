{
 "cells": [
  {
   "cell_type": "code",
   "execution_count": null,
   "metadata": {},
   "outputs": [],
   "source": [
    "from langcheck.metrics import fluency, flesch_kincaid_grade\n",
    "import langcheck.plot"
   ]
  },
  {
   "cell_type": "code",
   "execution_count": null,
   "metadata": {},
   "outputs": [],
   "source": [
    "generated_outputs = [\n",
    "    'Cat black the.',\n",
    "    'Black cat the.',\n",
    "    'The black cat.',\n",
    "    'The black cat is.',\n",
    "    'The black cat is big.',\n",
    "    'The big black cat is sitting.',\n",
    "    'The big black cat is sitting on the fence.',\n",
    "    'Usually, the big black cat is sitting on the fence.',\n",
    "    'Usually, the big black cat is sitting on the old wooden fence.',\n",
    "    'Usually, the big black cat, whom the neighbors fear, is seen sitting on the old wooden fence.'\n",
    "]\n",
    "prompts = ['Write a sentence with a random level of English grammatical fluency.']*10"
   ]
  },
  {
   "cell_type": "code",
   "execution_count": null,
   "metadata": {},
   "outputs": [],
   "source": [
    "fluency_values = fluency(\n",
    "    generated_outputs=generated_outputs,\n",
    "    prompts=prompts\n",
    ")\n",
    "flesch_kincaid_grade_values = flesch_kincaid_grade(\n",
    "    generated_outputs=generated_outputs,\n",
    "    prompts=prompts\n",
    ")"
   ]
  },
  {
   "cell_type": "code",
   "execution_count": null,
   "metadata": {},
   "outputs": [],
   "source": [
    "fluency_values"
   ]
  },
  {
   "cell_type": "code",
   "execution_count": null,
   "metadata": {},
   "outputs": [],
   "source": [
    "flesch_kincaid_grade_values"
   ]
  },
  {
   "cell_type": "code",
   "execution_count": null,
   "metadata": {},
   "outputs": [],
   "source": [
    "fluency_values.scatter()"
   ]
  },
  {
   "cell_type": "code",
   "execution_count": null,
   "metadata": {},
   "outputs": [],
   "source": [
    "langcheck.plot.scatter(fluency_values, flesch_kincaid_grade_values)"
   ]
  },
  {
   "cell_type": "code",
   "execution_count": null,
   "metadata": {},
   "outputs": [],
   "source": [
    "fluency_values.histogram()"
   ]
  }
 ],
 "metadata": {
  "kernelspec": {
   "display_name": "Python 3 (ipykernel)",
   "language": "python",
   "name": "python3"
  },
  "language_info": {
   "codemirror_mode": {
    "name": "ipython",
    "version": 3
   },
   "file_extension": ".py",
   "mimetype": "text/x-python",
   "name": "python",
   "nbconvert_exporter": "python",
   "pygments_lexer": "ipython3",
   "version": "3.8.17"
  }
 },
 "nbformat": 4,
 "nbformat_minor": 4
}
